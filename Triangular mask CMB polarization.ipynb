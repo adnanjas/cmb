{
 "cells": [
  {
   "cell_type": "code",
   "execution_count": 2,
   "id": "f47f8c57",
   "metadata": {},
   "outputs": [],
   "source": [
    "%matplotlib inline\n",
    "import numpy as np\n",
    "import matplotlib.pyplot as plt\n",
    "import healpy as hp\n",
    "import math"
   ]
  },
  {
   "cell_type": "code",
   "execution_count": 3,
   "id": "a7a1f87d",
   "metadata": {},
   "outputs": [
    {
     "name": "stdout",
     "output_type": "stream",
     "text": [
      "[6, 12, 18, 24, 30, 36, 42, 48, 54, 60, 66, 72, 78]\n"
     ]
    },
    {
     "data": {
      "image/png": "[encoded data removed]",
      "text/plain": [
       "<Figure size 612x388.8 with 2 Axes>"
      ]
     },
     "metadata": {
      "needs_background": "light"
     },
     "output_type": "display_data"
    }
   ],
   "source": [
    "nside = 512\n",
    "mask = np.zeros(hp.nside2npix(nside))\n",
    "mask_ = np.zeros(hp.nside2npix(nside))\n",
    "a = 3\n",
    "x = a\n",
    "triangle = hp.query_polygon(nside, [hp.ang2vec(-a,0, lonlat=True), hp.ang2vec(a,0, lonlat=True), hp.ang2vec(0, -2*a/3, lonlat=True)])\n",
    "mask[triangle] = 1.0\n",
    "length=[2*a]\n",
    "for i in range(12):\n",
    "    x = x + 3\n",
    "    trang = hp.query_polygon(nside, [hp.ang2vec(-x,0, lonlat=True), hp.ang2vec(x,0, lonlat=True), hp.ang2vec(0, -2*x/3, lonlat=True)])\n",
    "    mask_[trang] = 1.0\n",
    "    mask = np.vstack((mask,mask_))  # now mask has shape (11,3145728)\n",
    "    length.append(2*x)\n",
    "print(length)\n",
    "hp.mollview(mask[5])"
   ]
  },
  {
   "cell_type": "code",
   "execution_count": 49,
   "id": "716eeaa9",
   "metadata": {},
   "outputs": [
    {
     "data": {
      "image/png": "[encoded data removed]",
      "text/plain": [
       "<Figure size 612x388.8 with 2 Axes>"
      ]
     },
     "metadata": {
      "needs_background": "light"
     },
     "output_type": "display_data"
    }
   ],
   "source": [
    "hp.cartview(mask[1], lonra=[-20,20], latra=[-20,10])"
   ]
  },
  {
   "cell_type": "code",
   "execution_count": 3,
   "id": "c5abd190",
   "metadata": {},
   "outputs": [],
   "source": [
    "ffp10 = hp.read_map(\"/mnt/c/Users/hp/Downloads/febecop_ffp10_lensed_scl_cmb_353_mc_0000.fits\", field=(0, 1, 2))"
   ]
  },
  {
   "cell_type": "code",
   "execution_count": 7,
   "id": "3ab625dc",
   "metadata": {},
   "outputs": [],
   "source": [
    "ffp10 = hp.ud_grade(ffp10, nside_out=nside)\n",
    "\n",
    "angle = 0.5\n",
    "LMAX = 200\n",
    "\n",
    "ffp10 = hp.smoothing(ffp10, fwhm=np.radians(angle))"
   ]
  },
  {
   "cell_type": "code",
   "execution_count": null,
   "id": "930b492a",
   "metadata": {},
   "outputs": [],
   "source": [
    "hp.cartview(mask[2]*ffp10[0], lonra=[-35, 35], latra=[-25, 10], cmap='RdBu_r', min=-3e-4, max=3e-4)"
   ]
  },
  {
   "cell_type": "code",
   "execution_count": 8,
   "id": "259a0c1f",
   "metadata": {},
   "outputs": [],
   "source": [
    "def tqu2teb(T,Q,U,lmax):\n",
    "    nside = hp.npix2nside(len(T))\n",
    "    alms = hp.map2alm([T,Q,U],lmax = lmax, pol=True)\n",
    "    E = hp.alm2map(alms[1], nside=nside, lmax=lmax)\n",
    "    B = hp.alm2map(alms[2], nside=nside, lmax=lmax)\n",
    "    return T,E,B\n",
    "\n",
    "def tqu2qeueqbub(T, Q, U, lmax, getEfamily=True, getBfamily=True):\n",
    "    nside = hp.npix2nside(len(T))\n",
    "    \n",
    "    alms = hp.map2alm([T, Q, U], lmax=lmax, pol=True)\n",
    "    alms0 = np.zeros(len(alms[0]), dtype='complex')\n",
    "    \n",
    "    if getEfamily:\n",
    "        Efamily = hp.alm2map([alms[0], alms[1], alms0], nside=nside, lmax=lmax, pol=True)\n",
    "        QE = Efamily[1]\n",
    "        UE = Efamily[2]\n",
    "    if getBfamily:\n",
    "        Bfamily = hp.alm2map([alms[0], alms0, alms[2]], nside=nside, lmax=lmax, pol=True)\n",
    "        QB = Bfamily[1]\n",
    "        UB = Bfamily[2]\n",
    "        \n",
    "    if getEfamily and getBfamily:\n",
    "        return QE, UE, QB, UB\n",
    "    elif getEfamily:\n",
    "        return QE, UE\n",
    "    elif getBfamily:\n",
    "        return QB, UB"
   ]
  },
  {
   "cell_type": "code",
   "execution_count": 9,
   "id": "fee4b430",
   "metadata": {},
   "outputs": [],
   "source": [
    "T, E, B = tqu2teb(*ffp10, lmax=LMAX)"
   ]
  },
  {
   "cell_type": "code",
   "execution_count": 12,
   "id": "0307431e",
   "metadata": {},
   "outputs": [],
   "source": [
    "maskedT, maskedE, maskedB = tqu2teb(ffp10[0] * mask[0], ffp10[1] * mask[0], ffp10[2] * mask[0], lmax=LMAX)\n",
    "for i in range(1,13):\n",
    "    _, _, maskedB_ = tqu2teb(ffp10[0] * mask[i], ffp10[1] * mask[i], ffp10[2] * mask[i], lmax=LMAX)\n",
    "    maskedB = np.vstack((maskedB,maskedB_))"
   ]
  },
  {
   "cell_type": "code",
   "execution_count": 1,
   "id": "55ff84c1",
   "metadata": {},
   "outputs": [
    {
     "ename": "NameError",
     "evalue": "name 'plt' is not defined",
     "output_type": "error",
     "traceback": [
      "\u001b[0;31m---------------------------------------------------------------------------\u001b[0m",
      "\u001b[0;31mNameError\u001b[0m                                 Traceback (most recent call last)",
      "\u001b[0;32m/tmp/ipykernel_180/861097868.py\u001b[0m in \u001b[0;36m<module>\u001b[0;34m\u001b[0m\n\u001b[0;32m----> 1\u001b[0;31m \u001b[0mcmap\u001b[0m \u001b[0;34m=\u001b[0m \u001b[0mplt\u001b[0m\u001b[0;34m.\u001b[0m\u001b[0mcm\u001b[0m\u001b[0;34m.\u001b[0m\u001b[0mget_cmap\u001b[0m\u001b[0;34m(\u001b[0m\u001b[0;34m\"jet\"\u001b[0m\u001b[0;34m)\u001b[0m\u001b[0;34m.\u001b[0m\u001b[0mcopy\u001b[0m\u001b[0;34m(\u001b[0m\u001b[0;34m)\u001b[0m\u001b[0;34m\u001b[0m\u001b[0;34m\u001b[0m\u001b[0m\n\u001b[0m\u001b[1;32m      2\u001b[0m \u001b[0mcmap\u001b[0m\u001b[0;34m.\u001b[0m\u001b[0mset_bad\u001b[0m\u001b[0;34m(\u001b[0m\u001b[0mcolor\u001b[0m\u001b[0;34m=\u001b[0m\u001b[0;34m'white'\u001b[0m\u001b[0;34m)\u001b[0m\u001b[0;34m\u001b[0m\u001b[0;34m\u001b[0m\u001b[0m\n\u001b[1;32m      3\u001b[0m \u001b[0;34m\u001b[0m\u001b[0m\n\u001b[1;32m      4\u001b[0m \u001b[0mplt\u001b[0m\u001b[0;34m.\u001b[0m\u001b[0mfigure\u001b[0m\u001b[0;34m(\u001b[0m\u001b[0mfigsize\u001b[0m\u001b[0;34m=\u001b[0m\u001b[0;34m(\u001b[0m\u001b[0;36m20\u001b[0m\u001b[0;34m,\u001b[0m \u001b[0;36m15\u001b[0m\u001b[0;34m)\u001b[0m\u001b[0;34m)\u001b[0m\u001b[0;34m\u001b[0m\u001b[0;34m\u001b[0m\u001b[0m\n\u001b[1;32m      5\u001b[0m \u001b[0;34m\u001b[0m\u001b[0m\n",
      "\u001b[0;31mNameError\u001b[0m: name 'plt' is not defined"
     ]
    }
   ],
   "source": [
    "cmap = plt.cm.get_cmap(\"jet\").copy()\n",
    "cmap.set_bad(color='white')\n",
    "\n",
    "plt.figure(figsize=(20, 15))\n",
    "\n",
    "hp.cartview(B * mask[10], 1, sub=(3,1,1), lonra=[-30, 30], latra=[-25, 10], cmap='RdBu_r', min=-0.5e-6, max=0.5e-6, cbar=False)\n",
    "plt.title('Real B mode')\n",
    "\n",
    "hp.cartview(maskedB[10] * mask[10], 1, sub=(3,1,2), lonra=[-30, 30], latra=[-25, 10], cmap='RdBu_r', min=-0.5e-6, max=0.5e-6, cbar=False)\n",
    "plt.title('Masked B mode')\n",
    "\n",
    "hp.cartview((maskedB[10] - B) * mask[10], 1, sub=(3,1,3), lonra=[-30, 30], latra=[-25, 10], cmap='RdBu_r', min=-0.5e-6, max=0.5e-6, cbar=False)\n",
    "plt.title('Error')"
   ]
  },
  {
   "cell_type": "code",
   "execution_count": 10,
   "id": "3637f378",
   "metadata": {},
   "outputs": [],
   "source": [
    "def correct_leakage(m, mask):\n",
    "    QEp, UEp = tqu2qeueqbub(m[0]*mask, m[1]*mask, m[2]*mask, lmax=LMAX, getBfamily=False)\n",
    "    \n",
    "    _, _, template = tqu2teb(m[0]*mask, QEp*mask, UEp*mask, lmax=LMAX)\n",
    "        \n",
    "    return template * 2   #template is a B mode generated by \"pure\" QE and UE parameters"
   ]
  },
  {
   "cell_type": "code",
   "execution_count": 14,
   "id": "4ecc7244",
   "metadata": {},
   "outputs": [],
   "source": [
    "template = correct_leakage([*ffp10], mask[0])\n",
    "for i in range(1,13):\n",
    "    template_ = correct_leakage([*ffp10],mask[i])\n",
    "    template = np.vstack((template,template_))"
   ]
  },
  {
   "cell_type": "code",
   "execution_count": null,
   "id": "b5e002e2",
   "metadata": {},
   "outputs": [],
   "source": [
    "plt.figure(figsize=(20, 15))\n",
    "\n",
    "hp.cartview((maskedB[8] - B) * mask[8], 1, sub=(3,1,1), lonra=[-30, 30], latra=[-20, 5], cmap='RdBu_r', min=-0.5e-6, max=0.5e-6, cbar=False)\n",
    "plt.title('Error')\n",
    "\n",
    "hp.cartview(template[8]*mask[8], 1, sub=(3,1,2), lonra=[-30, 30], latra=[-20, 5], cmap='RdBu_r', min=-0.5e-6, max=0.5e-6, cbar=False)\n",
    "plt.title('Template')\n",
    "\n",
    "hp.cartview((maskedB[8] - B)*mask[8] - template[8]*mask[8], 1, sub=(3,1,3), lonra=[-30, 30], latra=[-20, 5], cmap='RdBu_r', min=-0.5e-6, max=0.5e-6, cbar=False)\n",
    "plt.title('Residual error')"
   ]
  },
  {
   "cell_type": "code",
   "execution_count": null,
   "id": "f21046c6",
   "metadata": {},
   "outputs": [],
   "source": [
    "########### For rescaling\n",
    "Error = []\n",
    "for i in range(13):\n",
    "    value = np.sqrt(((maskedB[0] - B)[mask[0]==1]**2).mean())\n",
    "    Error.append(np.sqrt(((maskedB[i] - B)[mask[i]==1]**2).mean())/value)\n",
    "    \n",
    "resError = []\n",
    "for i in range(13):\n",
    "    value_ = np.sqrt(((maskedB[0] - B - template[0])[mask[0]==1]**2).mean())\n",
    "    resError.append(np.sqrt(((maskedB[i] - B - template[i])[mask[i]==1]**2).mean())/value_)"
   ]
  },
  {
   "cell_type": "code",
   "execution_count": null,
   "id": "2c4f8c78",
   "metadata": {},
   "outputs": [],
   "source": [
    "########### For standard plot\n",
    "Error = []\n",
    "for i in range(13):\n",
    "    Error.append(np.sqrt(((maskedB[i] - B)[mask[i]==1]**2).mean()))\n",
    "    \n",
    "resError = []\n",
    "for i in range(13):\n",
    "    resError.append(np.sqrt(((maskedB[i] - B - template[i])[mask[i]==1]**2).mean()))"
   ]
  },
  {
   "cell_type": "code",
   "execution_count": 17,
   "id": "fb2ccbeb",
   "metadata": {},
   "outputs": [
    {
     "data": {
      "image/png": "[encoded data removed]",
      "text/plain": [
       "<Figure size 432x288 with 1 Axes>"
      ]
     },
     "metadata": {
      "needs_background": "light"
     },
     "output_type": "display_data"
    }
   ],
   "source": [
    "plt.plot(length,Error)\n",
    "plt.plot(length,resError)\n",
    "plt.xlabel(\"Base length (degrees of longitude)\")\n",
    "plt.ylabel(\"Error\")\n",
    "plt.legend([\"Error before correction\",\"Error after correction\"])\n",
    "plt.title(\"Case 2\")\n",
    "plt.show()"
   ]
  },
  {
   "cell_type": "code",
   "execution_count": 50,
   "id": "636b57d9",
   "metadata": {},
   "outputs": [],
   "source": [
    "RedError = []\n",
    "for i in range(13):\n",
    "    RedError.append(((Error[i]-resError[i])/Error[i])*100)"
   ]
  },
  {
   "cell_type": "code",
   "execution_count": 51,
   "id": "a0dda507",
   "metadata": {},
   "outputs": [
    {
     "data": {
      "image/png": "[encoded data removed]",
      "text/plain": [
       "<Figure size 432x288 with 1 Axes>"
      ]
     },
     "metadata": {
      "needs_background": "light"
     },
     "output_type": "display_data"
    }
   ],
   "source": [
    "plt.plot(length,RedError)\n",
    "plt.xlabel(\"Side length (degrees of longitude)\")0,\n",
    "plt.ylabel(\"Error reduction\")\n",
    "plt.title(\"Case 1\")\n",
    "plt.show()"
   ]
  },
  {
   "cell_type": "code",
   "execution_count": null,
   "id": "7e5278ea",
   "metadata": {},
   "outputs": [],
   "source": [
    "# CASE 1: Equilateral triangle, side on equator\n",
    "length1 = [6, 12, 18, 24, 30, 36, 42]  #in degrees of longitude\n",
    "Error1 = [2.7428812699404206e-07, 2.767091383319328e-07, 2.1929275558387872e-07, 1.9246291979371462e-07, 1.6563707914524155e-07, 1.6300576418493502e-07, 1.411574110801243e-07]\n",
    "resError1 = [1.3234826385064752e-07, 1.0718400281836047e-07, 9.112936599006183e-08, 7.774753938439289e-08, 7.216956720240772e-08, 6.396580616840165e-08, 5.729128299673773e-08]\n",
    "RedError1 = [51.7484532410977, 61.26474049086683, 58.44396877250916, 59.603886573203724, 56.42909934488481, 60.75856182862927, 59.41319512850952]"
   ]
  }
 ],
 "metadata": {
  "kernelspec": {
   "display_name": "Python 3 (ipykernel)",
   "language": "python",
   "name": "python3"
  },
  "language_info": {
   "codemirror_mode": {
    "name": "ipython",
    "version": 3
   },
   "file_extension": ".py",
   "mimetype": "text/x-python",
   "name": "python",
   "nbconvert_exporter": "python",
   "pygments_lexer": "ipython3",
   "version": "3.8.10"
  }
 },
 "nbformat": 4,
 "nbformat_minor": 5
}
